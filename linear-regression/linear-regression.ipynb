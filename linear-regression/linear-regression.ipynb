{
 "cells": [
  {
   "cell_type": "code",
   "execution_count": 17,
   "metadata": {},
   "outputs": [
    {
     "name": "stdout",
     "output_type": "stream",
     "text": [
      "[[ 1.        ]\n",
      " [ 1.09090909]\n",
      " [ 1.18181818]\n",
      " [ 1.27272727]\n",
      " [ 1.36363636]\n",
      " [ 1.45454545]\n",
      " [ 1.54545455]\n",
      " [ 1.63636364]\n",
      " [ 1.72727273]\n",
      " [ 1.81818182]\n",
      " [ 1.90909091]\n",
      " [ 2.        ]\n",
      " [ 2.09090909]\n",
      " [ 2.18181818]\n",
      " [ 2.27272727]\n",
      " [ 2.36363636]\n",
      " [ 2.45454545]\n",
      " [ 2.54545455]\n",
      " [ 2.63636364]\n",
      " [ 2.72727273]\n",
      " [ 2.81818182]\n",
      " [ 2.90909091]\n",
      " [ 3.        ]\n",
      " [ 3.09090909]\n",
      " [ 3.18181818]\n",
      " [ 3.27272727]\n",
      " [ 3.36363636]\n",
      " [ 3.45454545]\n",
      " [ 3.54545455]\n",
      " [ 3.63636364]\n",
      " [ 3.72727273]\n",
      " [ 3.81818182]\n",
      " [ 3.90909091]\n",
      " [ 4.        ]\n",
      " [ 4.09090909]\n",
      " [ 4.18181818]\n",
      " [ 4.27272727]\n",
      " [ 4.36363636]\n",
      " [ 4.45454545]\n",
      " [ 4.54545455]\n",
      " [ 4.63636364]\n",
      " [ 4.72727273]\n",
      " [ 4.81818182]\n",
      " [ 4.90909091]\n",
      " [ 5.        ]\n",
      " [ 5.09090909]\n",
      " [ 5.18181818]\n",
      " [ 5.27272727]\n",
      " [ 5.36363636]\n",
      " [ 5.45454545]\n",
      " [ 5.54545455]\n",
      " [ 5.63636364]\n",
      " [ 5.72727273]\n",
      " [ 5.81818182]\n",
      " [ 5.90909091]\n",
      " [ 6.        ]\n",
      " [ 6.09090909]\n",
      " [ 6.18181818]\n",
      " [ 6.27272727]\n",
      " [ 6.36363636]\n",
      " [ 6.45454545]\n",
      " [ 6.54545455]\n",
      " [ 6.63636364]\n",
      " [ 6.72727273]\n",
      " [ 6.81818182]\n",
      " [ 6.90909091]\n",
      " [ 7.        ]\n",
      " [ 7.09090909]\n",
      " [ 7.18181818]\n",
      " [ 7.27272727]\n",
      " [ 7.36363636]\n",
      " [ 7.45454545]\n",
      " [ 7.54545455]\n",
      " [ 7.63636364]\n",
      " [ 7.72727273]\n",
      " [ 7.81818182]\n",
      " [ 7.90909091]\n",
      " [ 8.        ]\n",
      " [ 8.09090909]\n",
      " [ 8.18181818]\n",
      " [ 8.27272727]\n",
      " [ 8.36363636]\n",
      " [ 8.45454545]\n",
      " [ 8.54545455]\n",
      " [ 8.63636364]\n",
      " [ 8.72727273]\n",
      " [ 8.81818182]\n",
      " [ 8.90909091]\n",
      " [ 9.        ]\n",
      " [ 9.09090909]\n",
      " [ 9.18181818]\n",
      " [ 9.27272727]\n",
      " [ 9.36363636]\n",
      " [ 9.45454545]\n",
      " [ 9.54545455]\n",
      " [ 9.63636364]\n",
      " [ 9.72727273]\n",
      " [ 9.81818182]\n",
      " [ 9.90909091]\n",
      " [10.        ]]\n"
     ]
    }
   ],
   "source": [
    "# linear regression by gradient descent\n",
    "\n",
    "import numpy as np\n",
    "\n",
    "data_x = np.linspace(1.0, 10.0, 100)[:, np.newaxis]\n",
    "print(data_x)\n",
    "data_y = np.sin(data_x) + 0.1*np.power(data_x,2) + 0.5*np.random.randn(100,1)\n",
    "data_x /= np.max(data_x)"
   ]
  },
  {
   "cell_type": "code",
   "execution_count": 18,
   "metadata": {},
   "outputs": [
    {
     "data": {
      "image/png": "[encoded data removed]",
      "text/plain": [
       "<Figure size 432x288 with 1 Axes>"
      ]
     },
     "metadata": {
      "needs_background": "light"
     },
     "output_type": "display_data"
    }
   ],
   "source": [
    "%matplotlib inline\n",
    "\n",
    "import matplotlib.pyplot as plt\n",
    "\n",
    "plt.scatter(data_x, data_y)\n",
    "plt.show()"
   ]
  },
  {
   "cell_type": "code",
   "execution_count": 19,
   "metadata": {},
   "outputs": [
    {
     "data": {
      "text/plain": [
       "array([[1.        , 0.1       ],\n",
       "       [1.        , 0.10909091],\n",
       "       [1.        , 0.11818182],\n",
       "       [1.        , 0.12727273],\n",
       "       [1.        , 0.13636364],\n",
       "       [1.        , 0.14545455],\n",
       "       [1.        , 0.15454545],\n",
       "       [1.        , 0.16363636],\n",
       "       [1.        , 0.17272727],\n",
       "       [1.        , 0.18181818],\n",
       "       [1.        , 0.19090909],\n",
       "       [1.        , 0.2       ],\n",
       "       [1.        , 0.20909091],\n",
       "       [1.        , 0.21818182],\n",
       "       [1.        , 0.22727273],\n",
       "       [1.        , 0.23636364],\n",
       "       [1.        , 0.24545455],\n",
       "       [1.        , 0.25454545],\n",
       "       [1.        , 0.26363636],\n",
       "       [1.        , 0.27272727],\n",
       "       [1.        , 0.28181818],\n",
       "       [1.        , 0.29090909],\n",
       "       [1.        , 0.3       ],\n",
       "       [1.        , 0.30909091],\n",
       "       [1.        , 0.31818182],\n",
       "       [1.        , 0.32727273],\n",
       "       [1.        , 0.33636364],\n",
       "       [1.        , 0.34545455],\n",
       "       [1.        , 0.35454545],\n",
       "       [1.        , 0.36363636],\n",
       "       [1.        , 0.37272727],\n",
       "       [1.        , 0.38181818],\n",
       "       [1.        , 0.39090909],\n",
       "       [1.        , 0.4       ],\n",
       "       [1.        , 0.40909091],\n",
       "       [1.        , 0.41818182],\n",
       "       [1.        , 0.42727273],\n",
       "       [1.        , 0.43636364],\n",
       "       [1.        , 0.44545455],\n",
       "       [1.        , 0.45454545],\n",
       "       [1.        , 0.46363636],\n",
       "       [1.        , 0.47272727],\n",
       "       [1.        , 0.48181818],\n",
       "       [1.        , 0.49090909],\n",
       "       [1.        , 0.5       ],\n",
       "       [1.        , 0.50909091],\n",
       "       [1.        , 0.51818182],\n",
       "       [1.        , 0.52727273],\n",
       "       [1.        , 0.53636364],\n",
       "       [1.        , 0.54545455],\n",
       "       [1.        , 0.55454545],\n",
       "       [1.        , 0.56363636],\n",
       "       [1.        , 0.57272727],\n",
       "       [1.        , 0.58181818],\n",
       "       [1.        , 0.59090909],\n",
       "       [1.        , 0.6       ],\n",
       "       [1.        , 0.60909091],\n",
       "       [1.        , 0.61818182],\n",
       "       [1.        , 0.62727273],\n",
       "       [1.        , 0.63636364],\n",
       "       [1.        , 0.64545455],\n",
       "       [1.        , 0.65454545],\n",
       "       [1.        , 0.66363636],\n",
       "       [1.        , 0.67272727],\n",
       "       [1.        , 0.68181818],\n",
       "       [1.        , 0.69090909],\n",
       "       [1.        , 0.7       ],\n",
       "       [1.        , 0.70909091],\n",
       "       [1.        , 0.71818182],\n",
       "       [1.        , 0.72727273],\n",
       "       [1.        , 0.73636364],\n",
       "       [1.        , 0.74545455],\n",
       "       [1.        , 0.75454545],\n",
       "       [1.        , 0.76363636],\n",
       "       [1.        , 0.77272727],\n",
       "       [1.        , 0.78181818],\n",
       "       [1.        , 0.79090909],\n",
       "       [1.        , 0.8       ],\n",
       "       [1.        , 0.80909091],\n",
       "       [1.        , 0.81818182],\n",
       "       [1.        , 0.82727273],\n",
       "       [1.        , 0.83636364],\n",
       "       [1.        , 0.84545455],\n",
       "       [1.        , 0.85454545],\n",
       "       [1.        , 0.86363636],\n",
       "       [1.        , 0.87272727],\n",
       "       [1.        , 0.88181818],\n",
       "       [1.        , 0.89090909],\n",
       "       [1.        , 0.9       ],\n",
       "       [1.        , 0.90909091],\n",
       "       [1.        , 0.91818182],\n",
       "       [1.        , 0.92727273],\n",
       "       [1.        , 0.93636364],\n",
       "       [1.        , 0.94545455],\n",
       "       [1.        , 0.95454545],\n",
       "       [1.        , 0.96363636],\n",
       "       [1.        , 0.97272727],\n",
       "       [1.        , 0.98181818],\n",
       "       [1.        , 0.99090909],\n",
       "       [1.        , 1.        ]])"
      ]
     },
     "execution_count": 19,
     "metadata": {},
     "output_type": "execute_result"
    }
   ],
   "source": [
    "data_x_new = np.hstack((np.ones_like(data_x), data_x))\n",
    "data_x_new"
   ]
  },
  {
   "cell_type": "code",
   "execution_count": 20,
   "metadata": {},
   "outputs": [
    {
     "data": {
      "text/plain": [
       "array([ 8, 62, 84, 36, 34, 51, 90, 33, 75, 76,  6,  3, 81, 43, 89, 54, 50,\n",
       "       73, 74, 26, 41, 19, 64,  9, 13, 31,  7, 63, 94,  1, 77, 92, 21, 14,\n",
       "       45, 79, 27, 30, 69, 24, 29, 95, 60, 44, 40,  2, 91, 72, 11, 49, 32,\n",
       "       96, 56, 25, 99, 66, 16, 57, 87, 37, 17, 71, 78, 18, 70, 28, 35,  4,\n",
       "       58, 67, 65, 12, 80, 15, 55, 83, 61, 86, 88,  0, 39, 53, 52, 59, 47,\n",
       "       20, 93, 98, 82, 42, 46, 23, 68, 38, 10, 48, 97, 22, 85,  5])"
      ]
     },
     "execution_count": 20,
     "metadata": {},
     "output_type": "execute_result"
    }
   ],
   "source": [
    "order = np.random.permutation(len(data_x_new))\n",
    "order"
   ]
  },
  {
   "cell_type": "code",
   "execution_count": 21,
   "metadata": {},
   "outputs": [
    {
     "data": {
      "text/plain": [
       "array([[1.        , 0.17272727],\n",
       "       [1.        , 0.66363636],\n",
       "       [1.        , 0.86363636],\n",
       "       [1.        , 0.42727273],\n",
       "       [1.        , 0.40909091],\n",
       "       [1.        , 0.56363636],\n",
       "       [1.        , 0.91818182],\n",
       "       [1.        , 0.4       ],\n",
       "       [1.        , 0.78181818],\n",
       "       [1.        , 0.79090909],\n",
       "       [1.        , 0.15454545],\n",
       "       [1.        , 0.12727273],\n",
       "       [1.        , 0.83636364],\n",
       "       [1.        , 0.49090909],\n",
       "       [1.        , 0.90909091],\n",
       "       [1.        , 0.59090909],\n",
       "       [1.        , 0.55454545],\n",
       "       [1.        , 0.76363636],\n",
       "       [1.        , 0.77272727],\n",
       "       [1.        , 0.33636364]])"
      ]
     },
     "execution_count": 21,
     "metadata": {},
     "output_type": "execute_result"
    }
   ],
   "source": [
    "portion = 20\n",
    "test_x = data_x_new[order[:portion]]\n",
    "test_y = data_y[order[:portion]]\n",
    "train_x = data_x_new[order[portion:]]\n",
    "train_y = data_y[order[portion:]]\n",
    "\n",
    "test_x"
   ]
  },
  {
   "cell_type": "code",
   "execution_count": 22,
   "metadata": {},
   "outputs": [],
   "source": [
    "def get_gradient(w,x,y):\n",
    "    y_estimate = x.dot(w).flatten()\n",
    "    error = y.flatten() - y_estimate\n",
    "    gradient = -(1.0/len(x)) * error.dot(x)\n",
    "    return gradient, np.linalg.norm(error)"
   ]
  },
  {
   "cell_type": "code",
   "execution_count": 23,
   "metadata": {},
   "outputs": [
    {
     "name": "stdout",
     "output_type": "stream",
     "text": [
      "Iteration: 100 - Error: 10.9878\n",
      "Iteration: 200 - Error: 10.9045\n",
      "Iteration: 300 - Error: 10.9041\n",
      "Converged.\n"
     ]
    }
   ],
   "source": [
    "w = np.random.randn(2)\n",
    "alpha = 0.5\n",
    "tolerance = 1e-5\n",
    "\n",
    "# Perform Gradient Descent\n",
    "iterations = 1\n",
    "while True:\n",
    "    gradient, error = get_gradient(w, train_x, train_y)\n",
    "    new_w = w - alpha * gradient\n",
    "    \n",
    "    # Stopping Condition\n",
    "    if np.sum(abs(new_w - w)) < tolerance:\n",
    "        print(\"Converged.\")\n",
    "        break\n",
    "    \n",
    "    # Print error every 50 iterations\n",
    "    if iterations % 100 == 0:\n",
    "#         print(error)\n",
    "        print(\"Iteration: %d - Error: %.4f\" %(iterations, error))\n",
    "    \n",
    "    iterations += 1\n",
    "    w = new_w"
   ]
  },
  {
   "cell_type": "code",
   "execution_count": 25,
   "metadata": {},
   "outputs": [
    {
     "name": "stdout",
     "output_type": "stream",
     "text": [
      "(100, 1)\n",
      "100\n"
     ]
    },
    {
     "data": {
      "image/png": "[encoded data removed]",
      "text/plain": [
       "<Figure size 432x288 with 1 Axes>"
      ]
     },
     "metadata": {
      "needs_background": "light"
     },
     "output_type": "display_data"
    }
   ],
   "source": [
    "y_estimate = data_x_new.dot(w).flatten()\n",
    "plt.scatter(data_x, data_y)\n",
    "plt.scatter(data_x, y_estimate)\n",
    "plt.show()"
   ]
  },
  {
   "cell_type": "code",
   "execution_count": null,
   "metadata": {},
   "outputs": [],
   "source": []
  }
 ],
 "metadata": {
  "kernelspec": {
   "display_name": "Python 3",
   "language": "python",
   "name": "python3"
  },
  "language_info": {
   "codemirror_mode": {
    "name": "ipython",
    "version": 3
   },
   "file_extension": ".py",
   "mimetype": "text/x-python",
   "name": "python",
   "nbconvert_exporter": "python",
   "pygments_lexer": "ipython3",
   "version": "3.6.5"
  }
 },
 "nbformat": 4,
 "nbformat_minor": 2
}
