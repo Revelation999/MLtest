{
 "cells": [
  {
   "cell_type": "code",
   "execution_count": 14,
   "metadata": {},
   "outputs": [],
   "source": [
    "import tensorflow as tf\n",
    "from tensorflow import keras\n",
    "import numpy as np"
   ]
  },
  {
   "cell_type": "code",
   "execution_count": 23,
   "metadata": {},
   "outputs": [
    {
     "name": "stdout",
     "output_type": "stream",
     "text": [
      "Training entries: 25000, labels: 25000\n",
      "[1, 194, 1153, 194, 8255, 78, 228, 5, 6, 1463, 4369, 5012, 134, 26, 4, 715, 8, 118, 1634, 14, 394, 20, 13, 119, 954, 189, 102, 5, 207, 110, 3103, 21, 14, 69, 188, 8, 30, 23, 7, 4, 249, 126, 93, 4, 114, 9, 2300, 1523, 5, 647, 4, 116, 9, 35, 8163, 4, 229, 9, 340, 1322, 4, 118, 9, 4, 130, 4901, 19, 4, 1002, 5, 89, 29, 952, 46, 37, 4, 455, 9, 45, 43, 38, 1543, 1905, 398, 4, 1649, 26, 6853, 5, 163, 11, 3215, 2, 4, 1153, 9, 194, 775, 7, 8255, 2, 349, 2637, 148, 605, 2, 8003, 15, 123, 125, 68, 2, 6853, 15, 349, 165, 4362, 98, 5, 4, 228, 9, 43, 2, 1157, 15, 299, 120, 5, 120, 174, 11, 220, 175, 136, 50, 9, 4373, 228, 8255, 5, 2, 656, 245, 2350, 5, 4, 9837, 131, 152, 491, 18, 2, 32, 7464, 1212, 14, 9, 6, 371, 78, 22, 625, 64, 1382, 9, 8, 168, 145, 23, 4, 1690, 15, 16, 4, 1355, 5, 28, 6, 52, 154, 462, 33, 89, 78, 285, 16, 145, 95]\n"
     ]
    }
   ],
   "source": [
    "imdb = keras.datasets.imdb\n",
    "(train_data, train_labels), (test_data, test_labels) = imdb.load_data(num_words=10000)\n",
    "print(\"Training entries: {}, labels: {}\".format(len(train_data), len(train_labels)))\n",
    "print(train_data[1])"
   ]
  },
  {
   "cell_type": "code",
   "execution_count": 24,
   "metadata": {},
   "outputs": [
    {
     "name": "stdout",
     "output_type": "stream",
     "text": [
      "<START> big hair big boobs bad music and a giant safety pin these are the words to best describe this terrible movie i love cheesy horror movies and i've seen hundreds but this had got to be on of the worst ever made the plot is paper thin and ridiculous the acting is an abomination the script is completely laughable the best is the end showdown with the cop and how he worked out who the killer is it's just so damn terribly written the clothes are sickening and funny in equal <UNK> the hair is big lots of boobs <UNK> men wear those cut <UNK> shirts that show off their <UNK> sickening that men actually wore them and the music is just <UNK> trash that plays over and over again in almost every scene there is trashy music boobs and <UNK> taking away bodies and the gym still doesn't close for <UNK> all joking aside this is a truly bad film whose only charm is to look back on the disaster that was the 80's and have a good old laugh at how bad everything was back then\n"
     ]
    }
   ],
   "source": [
    "word_index = imdb.get_word_index()\n",
    "\n",
    "word_index = {k:(v+3) for k,v in word_index.items()}\n",
    "word_index[\"<PAD>\"] = 0\n",
    "word_index[\"<START>\"] = 1\n",
    "word_index[\"<UNK>\"] = 2  # unknown\n",
    "word_index[\"<UNUSED>\"] = 3\n",
    "\n",
    "reverse_word_index = dict([(value, key) for (key, value) in word_index.items()])\n",
    "\n",
    "def decode_review(text):\n",
    "    return ' '.join([reverse_word_index.get(i, '?') for i in text])\n",
    "\n",
    "print (decode_review(train_data[1]))"
   ]
  },
  {
   "cell_type": "code",
   "execution_count": 17,
   "metadata": {},
   "outputs": [],
   "source": [
    "train_data = keras.preprocessing.sequence.pad_sequences(train_data, value=word_index[\"<PAD>\"], padding='post', maxlen=256)\n",
    "test_data = keras.preprocessing.sequence.pad_sequences(test_data, value=word_index[\"<PAD>\"], padding='post', maxlen=256)"
   ]
  },
  {
   "cell_type": "code",
   "execution_count": 18,
   "metadata": {},
   "outputs": [],
   "source": [
    "vocab_size = 10000\n",
    "\n",
    "model = keras.Sequential([keras.layers.Embedding(vocab_size, 16), keras.layers.GlobalAveragePooling1D(), keras.layers.Dense(16, activation=tf.nn.relu), keras.layers.Dense(1, activation=tf.nn.sigmoid)])"
   ]
  },
  {
   "cell_type": "code",
   "execution_count": 19,
   "metadata": {},
   "outputs": [],
   "source": [
    "model.compile(optimizer=tf.train.AdamOptimizer(), loss='binary_crossentropy', metrics=['accuracy'])"
   ]
  },
  {
   "cell_type": "code",
   "execution_count": 20,
   "metadata": {},
   "outputs": [],
   "source": [
    "x_val = train_data[:10000]\n",
    "partial_x_train = train_data[10000:]\n",
    "\n",
    "y_val = train_labels[:10000]\n",
    "partial_y_train = train_labels[10000:]"
   ]
  },
  {
   "cell_type": "code",
   "execution_count": 21,
   "metadata": {},
   "outputs": [
    {
     "name": "stdout",
     "output_type": "stream",
     "text": [
      "Train on 15000 samples, validate on 10000 samples\n",
      "Epoch 1/40\n",
      "15000/15000 [==============================] - 3s 215us/sample - loss: 0.6920 - acc: 0.5765 - val_loss: 0.6902 - val_acc: 0.6196\n",
      "Epoch 2/40\n",
      "15000/15000 [==============================] - 3s 168us/sample - loss: 0.6866 - acc: 0.7067 - val_loss: 0.6825 - val_acc: 0.7462\n",
      "Epoch 3/40\n",
      "15000/15000 [==============================] - 3s 167us/sample - loss: 0.6741 - acc: 0.7605 - val_loss: 0.6665 - val_acc: 0.7561\n",
      "Epoch 4/40\n",
      "15000/15000 [==============================] - 3s 169us/sample - loss: 0.6511 - acc: 0.7715 - val_loss: 0.6396 - val_acc: 0.7554\n",
      "Epoch 5/40\n",
      "15000/15000 [==============================] - 2s 165us/sample - loss: 0.6160 - acc: 0.7969 - val_loss: 0.6027 - val_acc: 0.7845\n",
      "Epoch 6/40\n",
      "15000/15000 [==============================] - 3s 173us/sample - loss: 0.5712 - acc: 0.8159 - val_loss: 0.5595 - val_acc: 0.8064\n",
      "Epoch 7/40\n",
      "15000/15000 [==============================] - 3s 169us/sample - loss: 0.5211 - acc: 0.8325 - val_loss: 0.5129 - val_acc: 0.8212\n",
      "Epoch 8/40\n",
      "15000/15000 [==============================] - 3s 167us/sample - loss: 0.4714 - acc: 0.8496 - val_loss: 0.4704 - val_acc: 0.8361\n",
      "Epoch 9/40\n",
      "15000/15000 [==============================] - 2s 166us/sample - loss: 0.4259 - acc: 0.8638 - val_loss: 0.4329 - val_acc: 0.8463\n",
      "Epoch 10/40\n",
      "15000/15000 [==============================] - 2s 161us/sample - loss: 0.3864 - acc: 0.8763 - val_loss: 0.4024 - val_acc: 0.8535\n",
      "Epoch 11/40\n",
      "15000/15000 [==============================] - 3s 168us/sample - loss: 0.3534 - acc: 0.8847 - val_loss: 0.3778 - val_acc: 0.8606\n",
      "Epoch 12/40\n",
      "15000/15000 [==============================] - 3s 175us/sample - loss: 0.3260 - acc: 0.8925 - val_loss: 0.3589 - val_acc: 0.8647\n",
      "Epoch 13/40\n",
      "15000/15000 [==============================] - 3s 190us/sample - loss: 0.3037 - acc: 0.8987 - val_loss: 0.3426 - val_acc: 0.8708\n",
      "Epoch 14/40\n",
      "15000/15000 [==============================] - 3s 192us/sample - loss: 0.2838 - acc: 0.9037 - val_loss: 0.3308 - val_acc: 0.8738\n",
      "Epoch 15/40\n",
      "15000/15000 [==============================] - 3s 185us/sample - loss: 0.2671 - acc: 0.9078 - val_loss: 0.3212 - val_acc: 0.8754\n",
      "Epoch 16/40\n",
      "15000/15000 [==============================] - 3s 169us/sample - loss: 0.2522 - acc: 0.9132 - val_loss: 0.3132 - val_acc: 0.8758\n",
      "Epoch 17/40\n",
      "15000/15000 [==============================] - 3s 167us/sample - loss: 0.2384 - acc: 0.9175 - val_loss: 0.3065 - val_acc: 0.8787\n",
      "Epoch 18/40\n",
      "15000/15000 [==============================] - 2s 164us/sample - loss: 0.2262 - acc: 0.9219 - val_loss: 0.3010 - val_acc: 0.8817\n",
      "Epoch 19/40\n",
      "15000/15000 [==============================] - 3s 167us/sample - loss: 0.2152 - acc: 0.9245 - val_loss: 0.2962 - val_acc: 0.8821\n",
      "Epoch 20/40\n",
      "15000/15000 [==============================] - 3s 174us/sample - loss: 0.2053 - acc: 0.9283 - val_loss: 0.2931 - val_acc: 0.8828\n",
      "Epoch 21/40\n",
      "15000/15000 [==============================] - 3s 182us/sample - loss: 0.1952 - acc: 0.9343 - val_loss: 0.2904 - val_acc: 0.8829\n",
      "Epoch 22/40\n",
      "15000/15000 [==============================] - 3s 177us/sample - loss: 0.1867 - acc: 0.9375 - val_loss: 0.2885 - val_acc: 0.8846\n",
      "Epoch 23/40\n",
      "15000/15000 [==============================] - 3s 173us/sample - loss: 0.1782 - acc: 0.9418 - val_loss: 0.2877 - val_acc: 0.8837\n",
      "Epoch 24/40\n",
      "15000/15000 [==============================] - 3s 189us/sample - loss: 0.1709 - acc: 0.9449 - val_loss: 0.2863 - val_acc: 0.8852\n",
      "Epoch 25/40\n",
      "15000/15000 [==============================] - 3s 183us/sample - loss: 0.1633 - acc: 0.9483 - val_loss: 0.2853 - val_acc: 0.8849\n",
      "Epoch 26/40\n",
      "15000/15000 [==============================] - 2s 167us/sample - loss: 0.1566 - acc: 0.9514 - val_loss: 0.2861 - val_acc: 0.8836\n",
      "Epoch 27/40\n",
      "15000/15000 [==============================] - 2s 164us/sample - loss: 0.1502 - acc: 0.9533 - val_loss: 0.2860 - val_acc: 0.8843\n",
      "Epoch 28/40\n",
      "15000/15000 [==============================] - 2s 164us/sample - loss: 0.1441 - acc: 0.9557 - val_loss: 0.2865 - val_acc: 0.8859\n",
      "Epoch 29/40\n",
      "15000/15000 [==============================] - 2s 166us/sample - loss: 0.1388 - acc: 0.9585 - val_loss: 0.2888 - val_acc: 0.8842\n",
      "Epoch 30/40\n",
      "15000/15000 [==============================] - 3s 168us/sample - loss: 0.1332 - acc: 0.9600 - val_loss: 0.2883 - val_acc: 0.8857\n",
      "Epoch 31/40\n",
      "15000/15000 [==============================] - 3s 167us/sample - loss: 0.1276 - acc: 0.9622 - val_loss: 0.2897 - val_acc: 0.8867\n",
      "Epoch 32/40\n",
      "15000/15000 [==============================] - 2s 166us/sample - loss: 0.1225 - acc: 0.9659 - val_loss: 0.2915 - val_acc: 0.8863\n",
      "Epoch 33/40\n",
      "15000/15000 [==============================] - 2s 163us/sample - loss: 0.1176 - acc: 0.9669 - val_loss: 0.2941 - val_acc: 0.8846\n",
      "Epoch 34/40\n",
      "15000/15000 [==============================] - 3s 173us/sample - loss: 0.1133 - acc: 0.9683 - val_loss: 0.2962 - val_acc: 0.8856\n",
      "Epoch 35/40\n",
      "15000/15000 [==============================] - 2s 166us/sample - loss: 0.1092 - acc: 0.9691 - val_loss: 0.2994 - val_acc: 0.8851\n",
      "Epoch 36/40\n",
      "15000/15000 [==============================] - 3s 170us/sample - loss: 0.1049 - acc: 0.9717 - val_loss: 0.3014 - val_acc: 0.8845\n",
      "Epoch 37/40\n",
      "15000/15000 [==============================] - 3s 167us/sample - loss: 0.1007 - acc: 0.9725 - val_loss: 0.3041 - val_acc: 0.8828\n",
      "Epoch 38/40\n",
      "15000/15000 [==============================] - 2s 165us/sample - loss: 0.0969 - acc: 0.9741 - val_loss: 0.3080 - val_acc: 0.8829\n",
      "Epoch 39/40\n",
      "15000/15000 [==============================] - 2s 165us/sample - loss: 0.0937 - acc: 0.9753 - val_loss: 0.3116 - val_acc: 0.8820\n",
      "Epoch 40/40\n",
      "15000/15000 [==============================] - 2s 165us/sample - loss: 0.0898 - acc: 0.9773 - val_loss: 0.3142 - val_acc: 0.8824\n"
     ]
    }
   ],
   "source": [
    "history = model.fit(partial_x_train,\n",
    "                    partial_y_train,\n",
    "                    epochs=40,\n",
    "                    batch_size=512,\n",
    "                    validation_data=(x_val, y_val),\n",
    "                    verbose=1)"
   ]
  },
  {
   "cell_type": "code",
   "execution_count": 22,
   "metadata": {},
   "outputs": [
    {
     "name": "stdout",
     "output_type": "stream",
     "text": [
      "25000/25000 [==============================] - 1s 54us/sample - loss: 0.3354 - acc: 0.8711\n",
      "[0.33539290192604065, 0.87112]\n"
     ]
    }
   ],
   "source": [
    "results = model.evaluate(test_data, test_labels)\n",
    "print(results)"
   ]
  },
  {
   "cell_type": "code",
   "execution_count": null,
   "metadata": {},
   "outputs": [],
   "source": []
  }
 ],
 "metadata": {
  "kernelspec": {
   "display_name": "Python 3",
   "language": "python",
   "name": "python3"
  },
  "language_info": {
   "codemirror_mode": {
    "name": "ipython",
    "version": 3
   },
   "file_extension": ".py",
   "mimetype": "text/x-python",
   "name": "python",
   "nbconvert_exporter": "python",
   "pygments_lexer": "ipython3",
   "version": "3.7.3"
  }
 },
 "nbformat": 4,
 "nbformat_minor": 2
}
